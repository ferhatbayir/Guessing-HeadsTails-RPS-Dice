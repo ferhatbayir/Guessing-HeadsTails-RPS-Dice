{
 "cells": [
  {
   "attachments": {},
   "cell_type": "markdown",
   "metadata": {},
   "source": [
    "rock/paper/scissors Aplicaton\n"
   ]
  },
  {
   "cell_type": "code",
   "execution_count": 1,
   "metadata": {},
   "outputs": [
    {
     "name": "stdout",
     "output_type": "stream",
     "text": [
      "Player's choice: scissors\n",
      "Computer's choice:  paper\n",
      "Player wins!\n"
     ]
    }
   ],
   "source": [
    "import random\n",
    "\n",
    "# We define a function named player_game\n",
    "def play_game(player_choice):\n",
    "    # We create a list and insert our required values\n",
    "    choices = [\"rock\", \"paper\", \"scissors\"]\n",
    "    # We make the computer choose randomly with the choice function \n",
    "    computer_choice = random.choice(choices)\n",
    "\n",
    "    print(\"Player's choice:\", player_choice)\n",
    "    print(\"Computer's choice: \", computer_choice)\n",
    "\n",
    "    # We create if blocks to determine the winner by comparing the results\n",
    "\n",
    "    if player_choice == computer_choice:\n",
    "        return \"It's a tie!\"\n",
    "    \n",
    "    elif (\n",
    "        (computer_choice == \"rock\" and player_choice == \"scissors\") or\n",
    "        (computer_choice == \"paper\" and player_choice == \"rock\") or\n",
    "        (computer_choice == \"scissors\" and player_choice == \"paper\")\n",
    "    ):\n",
    "        return \"Computer wins!\"\n",
    "    \n",
    "    elif (\n",
    "        (player_choice == \"rock\" and computer_choice == \"scissors\") or\n",
    "        (player_choice == \"paper\" and computer_choice == \"rock\") or\n",
    "        (player_choice == \"scissors\" and computer_choice == \"paper\")\n",
    "    ):\n",
    "        return \"Player wins!\"\n",
    "\n",
    "    \n",
    "    else:\n",
    "        # We make a error shot\n",
    "        raise ValueError(\"İnvalid choice entered!\")\n",
    "\n",
    "try:\n",
    "    # Player makes a selection and the input is converted to lowercase using the lower() method    \n",
    "    player_choice = input(\"Enter your choice (rock/paper/scissors): \").lower()\n",
    "    # play_game() function takes the player's choice as a parameter and assigns the result to the result variable\n",
    "    result = play_game(player_choice)\n",
    "    print(result)\n",
    "\n",
    "except ValueError as e:\n",
    "    print(e)"
   ]
  }
 ],
 "metadata": {
  "kernelspec": {
   "display_name": "Python 3",
   "language": "python",
   "name": "python3"
  },
  "language_info": {
   "codemirror_mode": {
    "name": "ipython",
    "version": 3
   },
   "file_extension": ".py",
   "mimetype": "text/x-python",
   "name": "python",
   "nbconvert_exporter": "python",
   "pygments_lexer": "ipython3",
   "version": "3.8.10"
  },
  "orig_nbformat": 4
 },
 "nbformat": 4,
 "nbformat_minor": 2
}
