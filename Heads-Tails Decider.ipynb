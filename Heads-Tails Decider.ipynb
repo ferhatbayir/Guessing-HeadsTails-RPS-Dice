{
 "cells": [
  {
   "attachments": {},
   "cell_type": "markdown",
   "metadata": {},
   "source": [
    "Heads-Tails Decider"
   ]
  },
  {
   "cell_type": "code",
   "execution_count": 1,
   "metadata": {},
   "outputs": [
    {
     "name": "stdout",
     "output_type": "stream",
     "text": [
      "Heads\n",
      "Heads\n",
      "Heads\n",
      "Heads\n",
      "Heads\n",
      "Tails\n",
      "Tails\n",
      "Heads\n",
      "Heads\n"
     ]
    }
   ],
   "source": [
    "# We are import the random module the generate random numbers\n",
    "import random\n",
    "\n",
    "# We define a function named flip_coin\n",
    "def flip_coin():\n",
    "    # We choose one of the random values with the 'choice' function\n",
    "    result = random.choice([\"Heads\", \"Tails\"])\n",
    "    return result\n",
    "\n",
    "# We create an inifite loop to print the values continiously on the screen\n",
    "while True:\n",
    "    value = flip_coin()\n",
    "    print(value)\n",
    "\n",
    "    # We add a command to stop the program at any time\n",
    "    if input(\"Press 'q' to quit: \") == 'q':\n",
    "        break\n"
   ]
  }
 ],
 "metadata": {
  "kernelspec": {
   "display_name": "Python 3",
   "language": "python",
   "name": "python3"
  },
  "language_info": {
   "codemirror_mode": {
    "name": "ipython",
    "version": 3
   },
   "file_extension": ".py",
   "mimetype": "text/x-python",
   "name": "python",
   "nbconvert_exporter": "python",
   "pygments_lexer": "ipython3",
   "version": "3.8.10"
  },
  "orig_nbformat": 4
 },
 "nbformat": 4,
 "nbformat_minor": 2
}
