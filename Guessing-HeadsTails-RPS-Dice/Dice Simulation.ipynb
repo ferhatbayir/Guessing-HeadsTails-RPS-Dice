{
 "cells": [
  {
   "attachments": {},
   "cell_type": "markdown",
   "metadata": {},
   "source": [
    "Dice Simulation"
   ]
  },
  {
   "cell_type": "code",
   "execution_count": 11,
   "metadata": {},
   "outputs": [
    {
     "name": "stdout",
     "output_type": "stream",
     "text": [
      "Dice rolled:  2\n",
      "Dice rolled:  4\n",
      "Dice rolled:  5\n"
     ]
    }
   ],
   "source": [
    "import random\n",
    "\n",
    "# We define a function named roll_dice()\n",
    "def roll_dice():\n",
    "    # This function selects a random number between 1 and 6(inclusive)\n",
    "    result = random.randint(1,6)\n",
    "    return result\n",
    "\n",
    "# We get the number of dice rolls from the user\n",
    "num_rolls = int(input(\"Enter the number of rolls: \"))\n",
    "\n",
    "# We create a loop that repeats as many times as the value we get from the user\n",
    "for i in range(num_rolls):\n",
    "    value = roll_dice()\n",
    "    print(\"Dice rolled: \", value)"
   ]
  }
 ],
 "metadata": {
  "kernelspec": {
   "display_name": "Python 3",
   "language": "python",
   "name": "python3"
  },
  "language_info": {
   "codemirror_mode": {
    "name": "ipython",
    "version": 3
   },
   "file_extension": ".py",
   "mimetype": "text/x-python",
   "name": "python",
   "nbconvert_exporter": "python",
   "pygments_lexer": "ipython3",
   "version": "3.8.10"
  },
  "orig_nbformat": 4
 },
 "nbformat": 4,
 "nbformat_minor": 2
}
